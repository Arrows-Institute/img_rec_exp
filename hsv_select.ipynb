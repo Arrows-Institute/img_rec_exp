{
 "cells": [
  {
   "cell_type": "code",
   "execution_count": 1,
   "id": "widespread-clause",
   "metadata": {},
   "outputs": [],
   "source": [
    "import cv2\n",
    "import IPython.display\n",
    "from ipywidgets import widgets\n",
    "import numpy as np\n",
    "from io import BytesIO\n",
    "import PIL.Image"
   ]
  },
  {
   "cell_type": "code",
   "execution_count": 2,
   "id": "billion-mystery",
   "metadata": {},
   "outputs": [],
   "source": [
    "def hsv_select(**kwargs):\n",
    "    hsv_min = tuple([int(l) for l, h in kwargs.values()])\n",
    "    hsv_max = tuple([int(h) for l, h in kwargs.values()])\n",
    "    mask = cv2.inRange(img_hsv, hsv_min, hsv_max)\n",
    "    img_masked = cv2.bitwise_and(img_rgb, img_rgb, mask = mask)\n",
    "    f = BytesIO()\n",
    "    PIL.Image.fromarray(img_masked).save(f, 'jpeg')\n",
    "    img_jpeg = IPython.display.Image(data=f.getvalue())\n",
    "    IPython.display.display_jpeg(img_jpeg)"
   ]
  },
  {
   "cell_type": "code",
   "execution_count": 3,
   "id": "intense-craft",
   "metadata": {},
   "outputs": [
    {
     "data": {
      "application/vnd.jupyter.widget-view+json": {
       "model_id": "3de897ee38d04a4f953a4abdcc19c7f2",
       "version_major": 2,
       "version_minor": 0
      },
      "text/plain": [
       "interactive(children=(IntRangeSlider(value=(0, 179), description='Hue:', layout=Layout(width='100%'), max=179)…"
      ]
     },
     "metadata": {},
     "output_type": "display_data"
    }
   ],
   "source": [
    "# 画像を読み込む。\n",
    "img = cv2.imread(\"./picture/blue_cone.jpg\")\n",
    "\n",
    "img_rgb = cv2.cvtColor(img, cv2.COLOR_BGR2RGB)\n",
    "img_hsv = cv2.cvtColor(img, cv2.COLOR_BGR2HSV)\n",
    "\n",
    "# パラメータ lower, upper を設定するスライダー    \n",
    "hsv = {}\n",
    "hsv[f\"h\"] = widgets.IntRangeSlider(value=[0, 179], min=0, max=179, description='Hue:', continuous_update=True, layout=widgets.Layout(width='100%'))\n",
    "hsv[f\"s\"] = widgets.IntRangeSlider(value=[0, 255], min=0, max=255, description='Saturation:', continuous_update=True, layout=widgets.Layout(width='100%'))\n",
    "hsv[f\"v\"] = widgets.IntRangeSlider(value=[0, 255], min=0, max=255, description='Value:', continuous_update=True, layout=widgets.Layout(width='100%'))\n",
    "\n",
    "# ウィジェットを表示する。\n",
    "widgets.interactive(hsv_select, **hsv)"
   ]
  },
  {
   "cell_type": "code",
   "execution_count": null,
   "id": "medical-martin",
   "metadata": {},
   "outputs": [],
   "source": []
  }
 ],
 "metadata": {
  "kernelspec": {
   "display_name": "Python 3",
   "language": "python",
   "name": "python3"
  },
  "language_info": {
   "codemirror_mode": {
    "name": "ipython",
    "version": 3
   },
   "file_extension": ".py",
   "mimetype": "text/x-python",
   "name": "python",
   "nbconvert_exporter": "python",
   "pygments_lexer": "ipython3",
   "version": "3.8.0"
  }
 },
 "nbformat": 4,
 "nbformat_minor": 5
}
