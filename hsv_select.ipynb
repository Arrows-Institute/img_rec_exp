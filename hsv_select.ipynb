{
 "cells": [
  {
   "cell_type": "code",
   "execution_count": 8,
   "id": "vocal-bookmark",
   "metadata": {},
   "outputs": [],
   "source": [
    "import cv2\n",
    "import IPython.display\n",
    "from ipywidgets import widgets\n",
    "import numpy as np\n",
    "from io import BytesIO\n",
    "import PIL.Image"
   ]
  },
  {
   "cell_type": "code",
   "execution_count": 9,
   "id": "loving-dodge",
   "metadata": {},
   "outputs": [],
   "source": [
    "def hsv_select(**kwargs):\n",
    "    hsv_min = tuple([int(l) for l, h in kwargs.values()])\n",
    "    hsv_max = tuple([int(h) for l, h in kwargs.values()])\n",
    "    mask = cv2.inRange(img_hsv, hsv_min, hsv_max)\n",
    "    img_masked = cv2.bitwise_and(img_rgb, img_rgb, mask = mask)\n",
    "    f = BytesIO()\n",
    "    PIL.Image.fromarray(img_masked).save(f, 'jpeg')\n",
    "    img_jpeg = IPython.display.Image(data=f.getvalue())\n",
    "    IPython.display.display_jpeg(img_jpeg)"
   ]
  },
  {
   "cell_type": "code",
   "execution_count": 10,
   "id": "straight-prisoner",
   "metadata": {},
   "outputs": [],
   "source": [
    "def resize_img(img, width=640, height=480):\n",
    "    h_o, w_o = img.shape[:2]\n",
    "    aspect = w_o/h_o\n",
    "    if width/height >= aspect:\n",
    "        h_n = height\n",
    "        w_n = round(h_n * aspect)\n",
    "    else:\n",
    "        w_n = width\n",
    "        h_n = round(w_n / aspect)\n",
    "    \n",
    "    img_re = cv2.resize(img, dsize=(w_n, h_n))\n",
    "    \n",
    "    return img_re"
   ]
  },
  {
   "cell_type": "code",
   "execution_count": 11,
   "id": "center-exclusion",
   "metadata": {},
   "outputs": [
    {
     "data": {
      "application/vnd.jupyter.widget-view+json": {
       "model_id": "ca755e3c96a54006b06890f9b9763014",
       "version_major": 2,
       "version_minor": 0
      },
      "text/plain": [
       "interactive(children=(IntRangeSlider(value=(0, 179), description='Hue:', layout=Layout(width='100%'), max=179)…"
      ]
     },
     "metadata": {},
     "output_type": "display_data"
    }
   ],
   "source": [
    "# 画像を読み込む。\n",
    "img = cv2.imread(\"./picture/blue_cone_original.jpg\")\n",
    "img = resize_img(img)\n",
    "\n",
    "img_rgb = cv2.cvtColor(img, cv2.COLOR_BGR2RGB)\n",
    "img_hsv = cv2.cvtColor(img, cv2.COLOR_BGR2HSV)\n",
    "\n",
    "# hsvを設定するスライダー    \n",
    "hsv = {}\n",
    "hsv[f\"h\"] = widgets.IntRangeSlider(value=[0, 179], min=0, max=179, description='Hue:', continuous_update=True, layout=widgets.Layout(width='100%'))\n",
    "hsv[f\"s\"] = widgets.IntRangeSlider(value=[0, 255], min=0, max=255, description='Saturation:', continuous_update=True, layout=widgets.Layout(width='100%'))\n",
    "hsv[f\"v\"] = widgets.IntRangeSlider(value=[0, 255], min=0, max=255, description='Value:', continuous_update=True, layout=widgets.Layout(width='100%'))\n",
    "\n",
    "# マスクされた画像を表示\n",
    "widgets.interactive(hsv_select, **hsv)"
   ]
  },
  {
   "cell_type": "code",
   "execution_count": null,
   "id": "indie-vegetation",
   "metadata": {},
   "outputs": [],
   "source": []
  }
 ],
 "metadata": {
  "kernelspec": {
   "display_name": "Python 3",
   "language": "python",
   "name": "python3"
  },
  "language_info": {
   "codemirror_mode": {
    "name": "ipython",
    "version": 3
   },
   "file_extension": ".py",
   "mimetype": "text/x-python",
   "name": "python",
   "nbconvert_exporter": "python",
   "pygments_lexer": "ipython3",
   "version": "3.8.0"
  }
 },
 "nbformat": 4,
 "nbformat_minor": 5
}
